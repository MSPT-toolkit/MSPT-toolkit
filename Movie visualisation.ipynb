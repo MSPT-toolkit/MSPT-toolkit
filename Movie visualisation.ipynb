{
 "cells": [
  {
   "cell_type": "code",
   "execution_count": null,
   "id": "92a94d9a",
   "metadata": {},
   "outputs": [],
   "source": [
    "import numpy as np\n",
    "import os\n",
    "import h5py\n",
    "\n",
    "import mspt.image_processing as img\n",
    "import mspt.particle_detection as detect\n",
    "import mspt.particle_fitting as fit\n",
    "os.environ['NUMEXPR_MAX_THREADS'] = '32'\n",
    "%matplotlib notebook"
   ]
  },
  {
   "cell_type": "markdown",
   "id": "e8051d45",
   "metadata": {},
   "source": [
    "# Process movie for display"
   ]
  },
  {
   "cell_type": "markdown",
   "id": "d4d838af",
   "metadata": {},
   "source": [
    "## Select movie to process"
   ]
  },
  {
   "cell_type": "code",
   "execution_count": null,
   "id": "cb532f55",
   "metadata": {},
   "outputs": [],
   "source": [
    "#file = os.path.normpath(r'C:\\Users\\admin\\Desktop\\MSPT test\\0001_sample.mp') # set manually\n",
    "file = img.fileDialog(os.getcwd()) # or via dialog\n",
    "assert os.path.isfile(file), 'File \"{}\" does not exist'.format(file)"
   ]
  },
  {
   "cell_type": "markdown",
   "id": "35dbbada",
   "metadata": {},
   "source": [
    "## Parameter settings"
   ]
  },
  {
   "cell_type": "code",
   "execution_count": null,
   "id": "f1006229",
   "metadata": {},
   "outputs": [],
   "source": [
    "# General parameters\n",
    "frame_range = [0,10000] # Restrict analysis to certain frames, e.g. [0, 2000], only applied if all_frames = False\n",
    "navg = 1 # Frame averaging before background removal\n",
    "assert len(frame_range)==2 or len(frame_range)==0, 'frame_range is expected to be either of type [] or [int, int]'\n",
    "\n",
    "# Background removal\n",
    "mode = 'continuous_median' # Choose background removal strategy\n",
    "window_length = 1001 # Set median window length\n",
    "\n",
    "# Choose between CPU and GPU processing. Set one of the two options True and the other one False.\n",
    "parallel = True # Use multiple CPU cores to perform background substraction\n",
    "GPU = False # Use GPU to perform background substraction, fastest option (requires CUDA and pytorch)"
   ]
  },
  {
   "cell_type": "markdown",
   "id": "d67735b4",
   "metadata": {},
   "source": [
    "## Background removal"
   ]
  },
  {
   "cell_type": "code",
   "execution_count": null,
   "id": "22afe912",
   "metadata": {},
   "outputs": [],
   "source": [
    "# Apply continuous median background removal\n",
    "frames, file = img.mp_reader(batch_mode=True,\n",
    "                             file_to_load=file,\n",
    "                             frame_range=frame_range,\n",
    "                             mode=mode,\n",
    "                             navg=navg,\n",
    "                             window_length=window_length,\n",
    "                             parallel=parallel, \n",
    "                             GPU=GPU)"
   ]
  },
  {
   "cell_type": "markdown",
   "id": "62903132",
   "metadata": {},
   "source": [
    "# Alternatively, load processed movie for display"
   ]
  },
  {
   "cell_type": "markdown",
   "id": "4c954c54",
   "metadata": {},
   "source": [
    "## Select processed movie to load"
   ]
  },
  {
   "cell_type": "code",
   "execution_count": null,
   "id": "8ee9d3f1",
   "metadata": {
    "scrolled": true
   },
   "outputs": [],
   "source": [
    "#file = os.path.normpath(r'C:\\Users\\admin\\Desktop\\MSPT test\\001_sample_median1001.h5') # set manually\n",
    "file = img.fileDialog(os.getcwd()) # or via dialog\n",
    "assert os.path.isfile(file), 'File \"{}\" does not exist'.format(file)\n",
    "\n",
    "# Load processed movies from HDF5 file\n",
    "with h5py.File(file, 'r') as h5_file:\n",
    "    frames = np.asarray(h5_file['frames']).copy()\n",
    "    window_length = np.asarray(h5_file['window_length']).copy()\n",
    "    frame_range = np.asarray(h5_file['frame_range']).copy()\n",
    "    \n",
    "print('Loaded processed movie {}'.format(file))"
   ]
  },
  {
   "cell_type": "markdown",
   "id": "def2d32d",
   "metadata": {},
   "source": [
    "# Movie viewer"
   ]
  },
  {
   "cell_type": "markdown",
   "id": "72aaf5e6",
   "metadata": {},
   "source": [
    "## Basic viewer with frame slider"
   ]
  },
  {
   "cell_type": "code",
   "execution_count": null,
   "id": "5be3cef6",
   "metadata": {},
   "outputs": [],
   "source": [
    "# Use this viewer to slide through frames\n",
    "contrast_range = [-0.0075, 0.0075] # For display\n",
    "img.frame_slider(frames, vmin=contrast_range[0], vmax=contrast_range[1], figsize=(9.5, 9.5*frames.shape[1]/frames.shape[2]))"
   ]
  },
  {
   "cell_type": "markdown",
   "id": "5d625dbb",
   "metadata": {},
   "source": [
    "## Viewer with frame slider and detection threshold selection"
   ]
  },
  {
   "cell_type": "code",
   "execution_count": null,
   "id": "f035c018",
   "metadata": {},
   "outputs": [],
   "source": [
    "# Use this viewer to select a suitable particle detection threshold thresh\n",
    "contrast_range = [-0.0075, 0.0075] # For display\n",
    "detect.frame_slider_view_cands(frames,\n",
    "                               vmin=contrast_range[0],\n",
    "                               vmax=contrast_range[1],\n",
    "                               figsize=(9.5, 9.5*frames.shape[1]/frames.shape[2]) )"
   ]
  },
  {
   "cell_type": "markdown",
   "id": "aca2735e",
   "metadata": {},
   "source": [
    "## Viewer with frame slider, detection threshold selection and successful particle fits"
   ]
  },
  {
   "cell_type": "code",
   "execution_count": null,
   "id": "f2274f7d",
   "metadata": {},
   "outputs": [],
   "source": [
    "# Use this viewer to see successful particle fits\n",
    "# NOTE: takes some time after first execution of cell and first slider update, but then it is smooth\n",
    "contrast_range = [-0.0075, 0.0075] # For display\n",
    "fit.frame_slider_view_cands_dets(frames,\n",
    "                                 vmin=contrast_range[0],\n",
    "                                 vmax=contrast_range[1],\n",
    "                                 method='trust-ncg',\n",
    "                                 DoG_estimates={'T' : 0.1423, 's' : 2.1436, 'sigma' : 1.2921},\n",
    "                                 figsize=(9.5, 9.5*frames.shape[1]/frames.shape[2]) )"
   ]
  }
 ],
 "metadata": {
  "kernelspec": {
   "display_name": "Python 3 (ipykernel)",
   "language": "python",
   "name": "python3"
  },
  "language_info": {
   "codemirror_mode": {
    "name": "ipython",
    "version": 3
   },
   "file_extension": ".py",
   "mimetype": "text/x-python",
   "name": "python",
   "nbconvert_exporter": "python",
   "pygments_lexer": "ipython3",
   "version": "3.9.7"
  }
 },
 "nbformat": 4,
 "nbformat_minor": 5
}
